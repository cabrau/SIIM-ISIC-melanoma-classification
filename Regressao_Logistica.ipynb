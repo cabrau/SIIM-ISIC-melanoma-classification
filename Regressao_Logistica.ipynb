{
 "cells": [
  {
   "cell_type": "markdown",
   "metadata": {},
   "source": [
    "Modelo de Regressão Logistica"
   ]
  },
  {
   "cell_type": "code",
   "execution_count": 90,
   "metadata": {},
   "outputs": [],
   "source": [
    "# Carregando Bibliotecas Python\n",
    "import numpy as np\n",
    "import pandas as pd\n",
    "import matplotlib.pyplot as plt\n",
    "import matplotlib as mpl\n",
    "import warnings\n",
    "warnings.filterwarnings(\"ignore\")\n",
    "%matplotlib inline \n",
    "\n",
    "import datetime as dt\n",
    "import random\n",
    "import seaborn as sns\n",
    "\n",
    "#regularização e grid search para otimizar os hiperparâmetros"
   ]
  },
  {
   "cell_type": "code",
   "execution_count": 91,
   "metadata": {},
   "outputs": [],
   "source": [
    "def sigmoid(x):\n",
    "    return 1 / (1 + np.exp(-x))"
   ]
  },
  {
   "cell_type": "code",
   "execution_count": 134,
   "metadata": {},
   "outputs": [],
   "source": [
    "#calculando o custo\n",
    "def compute_cost(X, y, theta):\n",
    "    if X.shape[1] != theta.shape[0]:\n",
    "        x0 = np.ones((X.shape[0],1))\n",
    "        X = np.concatenate((x0,X),axis=1)\n",
    "    m = len(y)\n",
    "    h = sigmoid(X @ theta)\n",
    "    epsilon = 1e-5\n",
    "    cost = (1/m)*(((-y).T @ np.log(h + epsilon))-((1-y).T @ np.log(1-h + epsilon)))\n",
    "    return cost"
   ]
  },
  {
   "cell_type": "code",
   "execution_count": 177,
   "metadata": {},
   "outputs": [],
   "source": [
    "# Cálculo do gradiente\n",
    "def gradient_descent(X, y, params, learning_rate, iterations, validation = False, X_val = None, y_val = None):\n",
    "    x0 = np.ones((X.shape[0],1))\n",
    "    X = np.concatenate((x0,X),axis=1)\n",
    "    m = len(y)\n",
    "    y = y.reshape(m,1)        \n",
    "    cost_history = np.zeros((iterations,1))\n",
    "    \n",
    "    if validation:\n",
    "        y_val = y_val.reshape(len(y_val),1)\n",
    "        cost_history_val = np.zeros((iterations,1))    \n",
    "\n",
    "    for i in range(iterations):\n",
    "        params = params - (learning_rate/m) * (X.T @ (sigmoid(X @ params) - y)) \n",
    "        cost_history[i] = compute_cost(X, y, params)\n",
    "        \n",
    "        if validation:\n",
    "            cost_history_val[i] = compute_cost(X_val, y_val, params) \n",
    "            \n",
    "    if validation:\n",
    "        return cost_history, cost_history_val, params\n",
    "        \n",
    "    return cost_history, params\n",
    "\n"
   ]
  },
  {
   "cell_type": "code",
   "execution_count": 94,
   "metadata": {},
   "outputs": [],
   "source": [
    "# Previsão\n",
    "def predict(X, w):\n",
    "    x0 = np.ones((X.shape[0],1))\n",
    "    X = np.concatenate((x0,X),axis=1)\n",
    "    return sigmoid(X @ w)"
   ]
  },
  {
   "cell_type": "code",
   "execution_count": 156,
   "metadata": {},
   "outputs": [
    {
     "name": "stdout",
     "output_type": "stream",
     "text": [
      "(33126, 1024)\n",
      "(1025, 1)\n"
     ]
    }
   ],
   "source": [
    "#Carregando dados 32 x 32\n",
    "X = np.load('X_32x32.npy')\n",
    "y = np.load('y_32x32.npy')\n",
    "\n",
    "iterations = 400\n",
    "learning_rate = 0.001\n",
    "\n",
    "n = np.size(X,1) + 1\n",
    "params = np.zeros((n,1))\n",
    "\n",
    "print(X.shape)\n",
    "print(params.shape)"
   ]
  },
  {
   "cell_type": "code",
   "execution_count": 157,
   "metadata": {},
   "outputs": [
    {
     "name": "stdout",
     "output_type": "stream",
     "text": [
      "Initial Cost is: [0.69312718] \n",
      "\n"
     ]
    }
   ],
   "source": [
    "initial_cost = compute_cost(X, y, params)\n",
    "\n",
    "print(\"Initial Cost is: {} \\n\".format(initial_cost))"
   ]
  },
  {
   "cell_type": "code",
   "execution_count": 158,
   "metadata": {},
   "outputs": [
    {
     "name": "stdout",
     "output_type": "stream",
     "text": [
      "Optimal Parameters are: \n",
      " [[ 0.0001844 ]\n",
      " [-0.16104278]\n",
      " [-0.12576706]\n",
      " ...\n",
      " [-0.07836408]\n",
      " [-0.09836085]\n",
      " [-0.12612986]] \n",
      "\n"
     ]
    }
   ],
   "source": [
    "(cost_history, params_optimal) = gradient_descent(X, y, params, learning_rate, iterations)\n",
    "\n",
    "print(\"Optimal Parameters are: \\n\", params_optimal, \"\\n\")"
   ]
  },
  {
   "cell_type": "code",
   "execution_count": 159,
   "metadata": {},
   "outputs": [
    {
     "data": {
      "image/png": "[encoded data removed]",
      "text/plain": [
       "<Figure size 432x288 with 1 Axes>"
      ]
     },
     "metadata": {},
     "output_type": "display_data"
    }
   ],
   "source": [
    "plt.figure()\n",
    "sns.set_style('white')\n",
    "plt.plot(range(len(cost_history)), cost_history, 'r')\n",
    "plt.title(\"Convergence Graph of Cost Function\")\n",
    "plt.xlabel(\"Number of Iterations\")\n",
    "plt.ylabel(\"Cost\")\n",
    "plt.show()"
   ]
  },
  {
   "cell_type": "code",
   "execution_count": 151,
   "metadata": {},
   "outputs": [],
   "source": [
    "y_pred = predict(X, params_optimal)\n",
    "y_hat = np.round(y_pred)"
   ]
  },
  {
   "cell_type": "code",
   "execution_count": 154,
   "metadata": {},
   "outputs": [
    {
     "name": "stdout",
     "output_type": "stream",
     "text": [
      "0.025\n"
     ]
    }
   ],
   "source": [
    "y_pred = y_pred.reshape(y_pred.shape[0])\n",
    "score = sum(y_pred == y)/ len(y)\n",
    "\n",
    "print(score)"
   ]
  },
  {
   "cell_type": "markdown",
   "metadata": {},
   "source": [
    "# RANDOM UNDERSAMPLING"
   ]
  },
  {
   "cell_type": "code",
   "execution_count": 181,
   "metadata": {},
   "outputs": [
    {
     "name": "stdout",
     "output_type": "stream",
     "text": [
      "shape das imagens:  (33126, 1024)\n",
      "shape dos rótulos:  (33126, 1)\n",
      "shape do array de imagens concatenados com rótulos:  (33126, 1025)\n",
      "shape dos padrões positivos:  (584, 1025)\n",
      "shape dos padrões negativos:  (32542, 1025)\n",
      "shape do novo array de dados balanceados com rótulos:  (1168, 1025)\n",
      "shape do novo array de dados balanceados:  (1168, 1024)\n",
      "shape do novo array de rótulos balanceados:  (1168,)\n"
     ]
    }
   ],
   "source": [
    "print('shape das imagens: ', X.shape)\n",
    "y = y.reshape(y.shape[0],1)\n",
    "print('shape dos rótulos: ', y.shape)\n",
    "#concatena\n",
    "\n",
    "data = np.concatenate((X,y),axis=1)\n",
    "print('shape do array de imagens concatenados com rótulos: ', data.shape)\n",
    "\n",
    "#separa em padrões positivos e negativos\n",
    "pos_mask = data[:,-1] == 1 \n",
    "pos = data[pos_mask,:]\n",
    "neg_mask = data[:,-1] == 0 \n",
    "neg = data[neg_mask,:]\n",
    "print('shape dos padrões positivos: ', pos.shape)\n",
    "print('shape dos padrões negativos: ', neg.shape)\n",
    "\n",
    "#seleciona uma amostra aleatória de padrões negativos para igualar com a classe negativa (mais abundante)\n",
    "np.random.seed(42)\n",
    "idx = np.random.randint(neg.shape[0], size=pos.shape[0])\n",
    "sampled = neg[idx,:]\n",
    "#concatena a amostra de padrões negativos com os padrões positivos\n",
    "data_sampled = np.concatenate((pos,sampled),axis=0)\n",
    "print('shape do novo array de dados balanceados com rótulos: ', data_sampled.shape)\n",
    "#divide em dados e rótulos (X,y)\n",
    "X_sub = data_sampled[:,0:-1]\n",
    "print('shape do novo array de dados balanceados: ', X_sub.shape)\n",
    "y_sub = data_sampled[:,-1]\n",
    "print('shape do novo array de rótulos balanceados: ', y_sub.shape)"
   ]
  },
  {
   "cell_type": "markdown",
   "metadata": {},
   "source": [
    "# VALIDAÇÃO"
   ]
  },
  {
   "cell_type": "code",
   "execution_count": 160,
   "metadata": {},
   "outputs": [],
   "source": [
    "from sklearn import metrics\n",
    "from sklearn.model_selection import train_test_split"
   ]
  },
  {
   "cell_type": "code",
   "execution_count": 221,
   "metadata": {},
   "outputs": [],
   "source": [
    "#separação em treino e validação\n",
    "X_train, X_val, y_train, y_val = train_test_split(\n",
    "    X_sub, y_sub, test_size=0.1, random_state=42, stratify = y_sub)\n",
    "\n",
    "#normalização\n",
    "mu = np.mean(X_train, 0)\n",
    "sigma = np.std(X_train, 0)\n",
    "X_train = (X_train - mu ) / sigma\n",
    "X_val = (X_val - mu ) / sigma"
   ]
  },
  {
   "cell_type": "code",
   "execution_count": 226,
   "metadata": {},
   "outputs": [],
   "source": [
    "iterations = 5000\n",
    "learning_rate = 0.005\n",
    "n = np.size(X,1) + 1\n",
    "params = np.zeros((n,1))\n",
    "\n",
    "(cost_history, cost_history_val, params_optimal) = gradient_descent(X_train, y_train, params, \n",
    "                                                  learning_rate, iterations, validation = True,\n",
    "                                                 X_val = X_val, y_val = y_val)"
   ]
  },
  {
   "cell_type": "code",
   "execution_count": 227,
   "metadata": {},
   "outputs": [
    {
     "data": {
      "image/png": "[encoded data removed]",
      "text/plain": [
       "<Figure size 432x288 with 1 Axes>"
      ]
     },
     "metadata": {},
     "output_type": "display_data"
    }
   ],
   "source": [
    "plt.figure()\n",
    "sns.set_style('white')\n",
    "plt.plot(range(len(cost_history)), cost_history, 'r', label = 'training cost')\n",
    "plt.plot(range(len(cost_history_val)), cost_history_val, 'b', label = 'validation cost')\n",
    "plt.title(\"Convergence Graph of Cost Function\")\n",
    "plt.xlabel(\"Number of Iterations\")\n",
    "plt.ylabel(\"Cost\")\n",
    "plt.legend(loc=\"best\")\n",
    "plt.show()"
   ]
  },
  {
   "cell_type": "code",
   "execution_count": 228,
   "metadata": {},
   "outputs": [
    {
     "data": {
      "text/plain": [
       "2058"
      ]
     },
     "execution_count": 228,
     "metadata": {},
     "output_type": "execute_result"
    }
   ],
   "source": [
    "np.argmin(cost_history_val)"
   ]
  },
  {
   "cell_type": "code",
   "execution_count": 229,
   "metadata": {},
   "outputs": [],
   "source": [
    "#predição\n",
    "y_prob = predict(X_val, params_optimal)\n",
    "y_pred = np.round(y_prob)"
   ]
  },
  {
   "cell_type": "code",
   "execution_count": 230,
   "metadata": {},
   "outputs": [
    {
     "name": "stdout",
     "output_type": "stream",
     "text": [
      "accuracy:  0.7008547008547008\n",
      "              precision    recall  f1-score   support\n",
      "\n",
      "           0       0.72      0.66      0.69        59\n",
      "           1       0.68      0.74      0.71        58\n",
      "\n",
      "   micro avg       0.70      0.70      0.70       117\n",
      "   macro avg       0.70      0.70      0.70       117\n",
      "weighted avg       0.70      0.70      0.70       117\n",
      "\n"
     ]
    },
    {
     "data": {
      "text/plain": [
       "array([[39, 20],\n",
       "       [15, 43]])"
      ]
     },
     "execution_count": 230,
     "metadata": {},
     "output_type": "execute_result"
    }
   ],
   "source": [
    "print('accuracy: ', metrics.accuracy_score(y_val, y_pred))\n",
    "print(metrics.classification_report(y_val, y_pred))\n",
    "metrics.confusion_matrix(y_val, y_pred)"
   ]
  },
  {
   "cell_type": "code",
   "execution_count": 231,
   "metadata": {},
   "outputs": [
    {
     "name": "stdout",
     "output_type": "stream",
     "text": [
      "0.8074225599064875\n"
     ]
    },
    {
     "data": {
      "image/png": "[encoded data removed]",
      "text/plain": [
       "<Figure size 432x288 with 1 Axes>"
      ]
     },
     "metadata": {},
     "output_type": "display_data"
    }
   ],
   "source": [
    "fpr, tpr, thresholds = metrics.roc_curve(y_val, y_prob, pos_label=1)\n",
    "roc_auc = metrics.auc(fpr, tpr)\n",
    "print(roc_auc)\n",
    "#plot\n",
    "plt.figure()\n",
    "lw = 2\n",
    "plt.plot(fpr, tpr, color='darkorange',lw=lw, label='ROC curve (area = %0.2f)' % roc_auc)\n",
    "plt.plot([0, 1], [0, 1], color='navy', lw=lw, linestyle='--')\n",
    "plt.xlim([0.0, 1.0])\n",
    "plt.ylim([0.0, 1.05])\n",
    "plt.xlabel('False Positive Rate')\n",
    "plt.ylabel('True Positive Rate')\n",
    "plt.title('ROC curve')\n",
    "plt.legend(loc=\"lower right\")\n",
    "plt.show()"
   ]
  },
  {
   "cell_type": "markdown",
   "metadata": {},
   "source": [
    "# Treino com todos os dados"
   ]
  },
  {
   "cell_type": "code",
   "execution_count": 232,
   "metadata": {},
   "outputs": [],
   "source": [
    "# treino com todos os dados\n",
    "\n",
    "#normalização\n",
    "mu = np.mean(X, 0)\n",
    "sigma = np.std(X, 0)\n",
    "X = (X - mu ) / sigma\n",
    "\n",
    "iterations = 2000\n",
    "learning_rate = 0.005\n",
    "n = np.size(X,1) + 1\n",
    "params = np.zeros((n,1))\n",
    "\n",
    "(cost_history, params_optimal) = gradient_descent(X, y, params,learning_rate, iterations)"
   ]
  },
  {
   "cell_type": "code",
   "execution_count": 233,
   "metadata": {},
   "outputs": [
    {
     "data": {
      "image/png": "[encoded data removed]",
      "text/plain": [
       "<Figure size 432x288 with 1 Axes>"
      ]
     },
     "metadata": {},
     "output_type": "display_data"
    }
   ],
   "source": [
    "plt.figure()\n",
    "sns.set_style('white')\n",
    "plt.plot(range(len(cost_history)), cost_history, 'r', label = 'training cost')\n",
    "plt.title(\"Convergence Graph of Cost Function\")\n",
    "plt.xlabel(\"Number of Iterations\")\n",
    "plt.ylabel(\"Cost\")\n",
    "plt.legend(loc=\"best\")\n",
    "plt.show()"
   ]
  },
  {
   "cell_type": "markdown",
   "metadata": {},
   "source": [
    "# SUMBMISSÃO DE RESULTADOS"
   ]
  },
  {
   "cell_type": "code",
   "execution_count": 234,
   "metadata": {},
   "outputs": [],
   "source": [
    "X_test = np.load('X_test_32x32.npy')\n",
    "import pickle\n",
    "infile = open(\"image_name_test.p\",'rb')\n",
    "image_name = pickle.load(infile)\n",
    "infile.close()"
   ]
  },
  {
   "cell_type": "code",
   "execution_count": 235,
   "metadata": {},
   "outputs": [],
   "source": [
    "image_name = [n.replace('.jpg','') for n in image_name]"
   ]
  },
  {
   "cell_type": "code",
   "execution_count": 242,
   "metadata": {},
   "outputs": [],
   "source": [
    "y_prob = predict(X_test, params_optimal)\n",
    "target = y_prob.reshape(len(y_prob))\n",
    "submission_reglog = pd.DataFrame({'image_name':image_name,'target':target})"
   ]
  },
  {
   "cell_type": "code",
   "execution_count": 244,
   "metadata": {},
   "outputs": [
    {
     "data": {
      "text/html": [
       "<div>\n",
       "<style scoped>\n",
       "    .dataframe tbody tr th:only-of-type {\n",
       "        vertical-align: middle;\n",
       "    }\n",
       "\n",
       "    .dataframe tbody tr th {\n",
       "        vertical-align: top;\n",
       "    }\n",
       "\n",
       "    .dataframe thead th {\n",
       "        text-align: right;\n",
       "    }\n",
       "</style>\n",
       "<table border=\"1\" class=\"dataframe\">\n",
       "  <thead>\n",
       "    <tr style=\"text-align: right;\">\n",
       "      <th></th>\n",
       "      <th>image_name</th>\n",
       "      <th>target</th>\n",
       "    </tr>\n",
       "  </thead>\n",
       "  <tbody>\n",
       "    <tr>\n",
       "      <th>0</th>\n",
       "      <td>ISIC_0232763</td>\n",
       "      <td>8.131426e-11</td>\n",
       "    </tr>\n",
       "    <tr>\n",
       "      <th>1</th>\n",
       "      <td>ISIC_1389671</td>\n",
       "      <td>1.831807e-11</td>\n",
       "    </tr>\n",
       "    <tr>\n",
       "      <th>2</th>\n",
       "      <td>ISIC_1022193</td>\n",
       "      <td>9.917069e-01</td>\n",
       "    </tr>\n",
       "    <tr>\n",
       "      <th>3</th>\n",
       "      <td>ISIC_6335117</td>\n",
       "      <td>2.090852e-18</td>\n",
       "    </tr>\n",
       "    <tr>\n",
       "      <th>4</th>\n",
       "      <td>ISIC_9333840</td>\n",
       "      <td>1.060984e-19</td>\n",
       "    </tr>\n",
       "  </tbody>\n",
       "</table>\n",
       "</div>"
      ],
      "text/plain": [
       "     image_name        target\n",
       "0  ISIC_0232763  8.131426e-11\n",
       "1  ISIC_1389671  1.831807e-11\n",
       "2  ISIC_1022193  9.917069e-01\n",
       "3  ISIC_6335117  2.090852e-18\n",
       "4  ISIC_9333840  1.060984e-19"
      ]
     },
     "execution_count": 244,
     "metadata": {},
     "output_type": "execute_result"
    }
   ],
   "source": [
    "submission_reglog.head()"
   ]
  },
  {
   "cell_type": "code",
   "execution_count": 245,
   "metadata": {},
   "outputs": [],
   "source": [
    "submission_reglog.to_csv('data/submission_reglog.csv',index = False)"
   ]
  },
  {
   "cell_type": "markdown",
   "metadata": {},
   "source": [
    "# score: 0.7676"
   ]
  }
 ],
 "metadata": {
  "kernelspec": {
   "display_name": "Python 3",
   "language": "python",
   "name": "python3"
  },
  "language_info": {
   "codemirror_mode": {
    "name": "ipython",
    "version": 3
   },
   "file_extension": ".py",
   "mimetype": "text/x-python",
   "name": "python",
   "nbconvert_exporter": "python",
   "pygments_lexer": "ipython3",
   "version": "3.7.3"
  }
 },
 "nbformat": 4,
 "nbformat_minor": 4
}
